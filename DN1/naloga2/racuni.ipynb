{
 "cells": [
  {
   "cell_type": "code",
   "execution_count": 101,
   "metadata": {},
   "outputs": [],
   "source": [
    "from sympy import *\n",
    "import numpy as np\n",
    "\n",
    "x, y, z, a, b, c, d, e, f, g, h, i = symbols('x y z a b c d e f g h i')\n",
    "init_printing()"
   ]
  },
  {
   "cell_type": "code",
   "execution_count": 102,
   "metadata": {},
   "outputs": [
    {
     "data": {
      "text/latex": [
       "$\\displaystyle \\left[\\begin{matrix}1 & - y & - 2 y z - z^{2} & - 5 y^{2} z & 0\\\\0 & 1 & - y & - 2 y z - z^{2} & - 5 y^{2} z\\\\1 & - y + z & y z & 0 & 0\\\\0 & 1 & - y + z & y z & 0\\\\0 & 0 & 1 & - y + z & y z\\end{matrix}\\right]$"
      ],
      "text/plain": [
       "⎡                     2        2             ⎤\n",
       "⎢1    -y    -2⋅y⋅z - z     -5⋅y ⋅z       0   ⎥\n",
       "⎢                                            ⎥\n",
       "⎢                                  2      2  ⎥\n",
       "⎢0    1         -y       -2⋅y⋅z - z   -5⋅y ⋅z⎥\n",
       "⎢                                            ⎥\n",
       "⎢1  -y + z      y⋅z           0          0   ⎥\n",
       "⎢                                            ⎥\n",
       "⎢0    1       -y + z         y⋅z         0   ⎥\n",
       "⎢                                            ⎥\n",
       "⎣0    0          1         -y + z       y⋅z  ⎦"
      ]
     },
     "execution_count": 102,
     "metadata": {},
     "output_type": "execute_result"
    }
   ],
   "source": [
    "r1 = [1, -y, -2*y*z-z**2, -5*y**2*z]\n",
    "r2 = [1, -y+z, y*z]\n",
    "M=Matrix([r1+[0], [0]+r1, r2+[0]*2, [0]+r2+[0], [0]*2+r2])\n",
    "M"
   ]
  },
  {
   "cell_type": "code",
   "execution_count": 103,
   "metadata": {},
   "outputs": [
    {
     "data": {
      "image/png": "[encoded data removed]",
      "text/latex": [
       "$\\displaystyle 45 y^{4} z^{2} - 18 y^{3} z^{3} + 5 y^{2} z^{4}$"
      ],
      "text/plain": [
       "    4  2       3  3      2  4\n",
       "45⋅y ⋅z  - 18⋅y ⋅z  + 5⋅y ⋅z "
      ]
     },
     "execution_count": 103,
     "metadata": {},
     "output_type": "execute_result"
    }
   ],
   "source": [
    "M.det()"
   ]
  }
 ],
 "metadata": {
  "interpreter": {
   "hash": "998eedb6b097acddae1885218f0c096306c8e6c80b161298621596a89d43b2ec"
  },
  "kernelspec": {
   "display_name": "Python 3.8.10 64-bit ('3.8.10')",
   "language": "python",
   "name": "python3"
  },
  "language_info": {
   "codemirror_mode": {
    "name": "ipython",
    "version": 3
   },
   "file_extension": ".py",
   "mimetype": "text/x-python",
   "name": "python",
   "nbconvert_exporter": "python",
   "pygments_lexer": "ipython3",
   "version": "3.8.10"
  },
  "orig_nbformat": 4
 },
 "nbformat": 4,
 "nbformat_minor": 2
}
