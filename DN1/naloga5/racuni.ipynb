{
 "cells": [
  {
   "cell_type": "code",
   "execution_count": 100,
   "metadata": {},
   "outputs": [],
   "source": [
    "from sympy import *\n",
    "import numpy as np\n",
    "import matplotlib.pyplot as plt\n",
    "from tqdm import tqdm\n",
    "\n",
    "x, y, z, w, t, a, b, c, d, e, f, g, h, i = symbols('x y z w t a b c d e f g h i')\n",
    "init_printing()\n",
    "plt.rcParams['figure.figsize'] = 15, 10"
   ]
  },
  {
   "cell_type": "code",
   "execution_count": 103,
   "metadata": {},
   "outputs": [
    {
     "data": {
      "image/png": "[encoded data removed]",
      "text/latex": [
       "$\\displaystyle - y^{4} - z^{4} + 2 \\left(x^{2} - 2 x y + y^{2} - y z\\right)^{2}$"
      ],
      "text/plain": [
       "                                     2\n",
       "   4    4     ⎛ 2            2      ⎞ \n",
       "- y  - z  + 2⋅⎝x  - 2⋅x⋅y + y  - y⋅z⎠ "
      ]
     },
     "execution_count": 103,
     "metadata": {},
     "output_type": "execute_result"
    }
   ],
   "source": [
    "F = 2*(x**2-2*x*y+y**2-y*z)**2-y**4-z**4\n",
    "F"
   ]
  },
  {
   "cell_type": "code",
   "execution_count": 104,
   "metadata": {},
   "outputs": [
    {
     "data": {
      "image/png": "[encoded data removed]",
      "text/latex": [
       "$\\displaystyle 8 x y z - 8 x z - 8 y + 8$"
      ],
      "text/plain": [
       "8⋅x⋅y⋅z - 8⋅x⋅z - 8⋅y + 8"
      ]
     },
     "execution_count": 104,
     "metadata": {},
     "output_type": "execute_result"
    }
   ],
   "source": [
    "degT = 2\n",
    "t = F.series(x, 1, degT).removeO().series(y, 1, degT).removeO().series(z, 1, degT).removeO().simplify()\n",
    "t"
   ]
  },
  {
   "cell_type": "code",
   "execution_count": null,
   "metadata": {},
   "outputs": [],
   "source": []
  }
 ],
 "metadata": {
  "interpreter": {
   "hash": "998eedb6b097acddae1885218f0c096306c8e6c80b161298621596a89d43b2ec"
  },
  "kernelspec": {
   "display_name": "Python 3.8.10 64-bit ('3.8.10')",
   "language": "python",
   "name": "python3"
  },
  "language_info": {
   "codemirror_mode": {
    "name": "ipython",
    "version": 3
   },
   "file_extension": ".py",
   "mimetype": "text/x-python",
   "name": "python",
   "nbconvert_exporter": "python",
   "pygments_lexer": "ipython3",
   "version": "3.8.10"
  },
  "orig_nbformat": 4
 },
 "nbformat": 4,
 "nbformat_minor": 2
}
