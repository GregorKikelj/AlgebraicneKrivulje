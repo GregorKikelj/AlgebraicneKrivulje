{
 "cells": [
  {
   "cell_type": "code",
   "execution_count": 1,
   "metadata": {},
   "outputs": [],
   "source": [
    "from sympy import *\n",
    "import numpy as np\n",
    "\n",
    "x, y, z, a, b, c, d, e, f, g, h, i = symbols('x y z a b c d e f g h i')\n",
    "init_printing()"
   ]
  },
  {
   "cell_type": "code",
   "execution_count": 6,
   "metadata": {},
   "outputs": [
    {
     "data": {
      "text/latex": [
       "$\\displaystyle \\left[\\begin{matrix}x - y & 0 & - x y^{2} & 0\\\\0 & x - y & 0 & - x y^{2}\\\\1 & 0 & x y & 0\\\\0 & 1 & 0 & x y\\end{matrix}\\right]$"
      ],
      "text/plain": [
       "⎡                  2       ⎤\n",
       "⎢x - y    0    -x⋅y     0  ⎥\n",
       "⎢                          ⎥\n",
       "⎢                         2⎥\n",
       "⎢  0    x - y    0    -x⋅y ⎥\n",
       "⎢                          ⎥\n",
       "⎢  1      0     x⋅y     0  ⎥\n",
       "⎢                          ⎥\n",
       "⎣  0      1      0     x⋅y ⎦"
      ]
     },
     "execution_count": 6,
     "metadata": {},
     "output_type": "execute_result"
    }
   ],
   "source": [
    "M=Matrix([[x-y, 0, -y**2*x, 0], [0, x-y, 0, -y**2*x], [1, 0, x*y, 0], [0, 1, 0, x*y]])\n",
    "M"
   ]
  },
  {
   "cell_type": "code",
   "execution_count": 7,
   "metadata": {},
   "outputs": [
    {
     "data": {
      "image/png": "[encoded data removed]",
      "text/latex": [
       "$\\displaystyle x^{4} y^{2}$"
      ],
      "text/plain": [
       " 4  2\n",
       "x ⋅y "
      ]
     },
     "execution_count": 7,
     "metadata": {},
     "output_type": "execute_result"
    }
   ],
   "source": [
    "M.det()"
   ]
  }
 ],
 "metadata": {
  "interpreter": {
   "hash": "998eedb6b097acddae1885218f0c096306c8e6c80b161298621596a89d43b2ec"
  },
  "kernelspec": {
   "display_name": "Python 3.8.10 64-bit ('3.8.10')",
   "language": "python",
   "name": "python3"
  },
  "language_info": {
   "codemirror_mode": {
    "name": "ipython",
    "version": 3
   },
   "file_extension": ".py",
   "mimetype": "text/x-python",
   "name": "python",
   "nbconvert_exporter": "python",
   "pygments_lexer": "ipython3",
   "version": "3.8.10"
  },
  "orig_nbformat": 4
 },
 "nbformat": 4,
 "nbformat_minor": 2
}
