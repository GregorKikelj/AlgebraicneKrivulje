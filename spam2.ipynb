{
 "cells": [
  {
   "cell_type": "code",
   "execution_count": 2,
   "metadata": {},
   "outputs": [],
   "source": [
    "from sympy import *\n",
    "import numpy as np\n",
    "import matplotlib.pyplot as plt\n",
    "\n",
    "x, y, z, t, a, b, c, d, e, f, g, h, i, p, q = symbols('x y z t a b c d e f g h i p q')\n",
    "init_printing()\n",
    "plt.rcParams['figure.figsize'] = 20, 15"
   ]
  },
  {
   "cell_type": "code",
   "execution_count": 4,
   "metadata": {},
   "outputs": [],
   "source": [
    "p = x*y**2-y**3+x\n",
    "pz = x*y**2-y**3+x*z**2"
   ]
  },
  {
   "cell_type": "code",
   "execution_count": 10,
   "metadata": {},
   "outputs": [
    {
     "data": {
      "image/png": "[encoded data removed]",
      "text/latex": [
       "$\\displaystyle \\left[ y^{2} + z^{2}, \\  2 x y - 3 y^{2}, \\  2 x z\\right]$"
      ],
      "text/plain": [
       "⎡ 2    2             2       ⎤\n",
       "⎣y  + z , 2⋅x⋅y - 3⋅y , 2⋅x⋅z⎦"
      ]
     },
     "execution_count": 10,
     "metadata": {},
     "output_type": "execute_result"
    }
   ],
   "source": [
    "[pz.diff(t) for t in [x, y, z]]"
   ]
  },
  {
   "cell_type": "code",
   "execution_count": 11,
   "metadata": {},
   "outputs": [
    {
     "data": {
      "image/png": "[encoded data removed]",
      "text/latex": [
       "$\\displaystyle \\left[ \\left( 0, \\  0, \\  0\\right), \\  \\left( 0, \\  0, \\  0\\right), \\  \\left( x, \\  0, \\  0\\right)\\right]$"
      ],
      "text/plain": [
       "[(0, 0, 0), (0, 0, 0), (x, 0, 0)]"
      ]
     },
     "execution_count": 11,
     "metadata": {},
     "output_type": "execute_result"
    }
   ],
   "source": [
    "solve([pz.diff(t) for t in [x, y, z]], (x, y, z))"
   ]
  },
  {
   "cell_type": "markdown",
   "metadata": {},
   "source": [
    "Edina sing. tocka je (1, 0, 0)"
   ]
  },
  {
   "cell_type": "code",
   "execution_count": 16,
   "metadata": {},
   "outputs": [
    {
     "data": {
      "image/png": "[encoded data removed]",
      "text/latex": [
       "$\\displaystyle - x y^{2} - x z^{2} + 3 y z^{2}$"
      ],
      "text/plain": [
       "     2      2        2\n",
       "- x⋅y  - x⋅z  + 3⋅y⋅z "
      ]
     },
     "execution_count": 16,
     "metadata": {},
     "output_type": "execute_result"
    }
   ],
   "source": [
    "d = hessian(pz, (x, y, z)).det()/8\n",
    "d"
   ]
  },
  {
   "cell_type": "code",
   "execution_count": 21,
   "metadata": {},
   "outputs": [
    {
     "data": {
      "image/png": "[encoded data removed]",
      "text/latex": [
       "$\\displaystyle \\left[ \\left( 0, \\  0, \\  z\\right), \\  \\left( x, \\  0, \\  0\\right), \\  \\left( - \\frac{3 \\sqrt{3} z}{4}, \\  - \\sqrt{3} z, \\  z\\right), \\  \\left( \\frac{3 \\sqrt{3} z}{4}, \\  \\sqrt{3} z, \\  z\\right)\\right]$"
      ],
      "text/plain": [
       "⎡                      ⎛-3⋅√3⋅z           ⎞  ⎛3⋅√3⋅z         ⎞⎤\n",
       "⎢(0, 0, z), (x, 0, 0), ⎜────────, -√3⋅z, z⎟, ⎜──────, √3⋅z, z⎟⎥\n",
       "⎣                      ⎝   4              ⎠  ⎝  4            ⎠⎦"
      ]
     },
     "execution_count": 21,
     "metadata": {},
     "output_type": "execute_result"
    }
   ],
   "source": [
    "solve([pz, d], (x, y, z))"
   ]
  },
  {
   "cell_type": "markdown",
   "metadata": {},
   "source": [
    "Dobimo opcije (0, 0, 1), (1, 0, 0), (3sqrt(3)/4, sqrt(3), -1), (3sqrt(3)/4, sqrt(3), 1)"
   ]
  },
  {
   "cell_type": "code",
   "execution_count": 22,
   "metadata": {},
   "outputs": [
    {
     "data": {
      "image/png": "[encoded data removed]",
      "text/latex": [
       "$\\displaystyle \\frac{43}{16} + 3 \\sqrt{3}$"
      ],
      "text/plain": [
       "43       \n",
       "── + 3⋅√3\n",
       "16       "
      ]
     },
     "execution_count": 22,
     "metadata": {},
     "output_type": "execute_result"
    }
   ],
   "source": [
    "(3*sqrt(3)/4)**2+sqrt(3)**3+1**2"
   ]
  },
  {
   "cell_type": "code",
   "execution_count": null,
   "metadata": {},
   "outputs": [],
   "source": []
  }
 ],
 "metadata": {
  "interpreter": {
   "hash": "998eedb6b097acddae1885218f0c096306c8e6c80b161298621596a89d43b2ec"
  },
  "kernelspec": {
   "display_name": "Python 3.8.10 64-bit ('3.8.10')",
   "language": "python",
   "name": "python3"
  },
  "language_info": {
   "codemirror_mode": {
    "name": "ipython",
    "version": 3
   },
   "file_extension": ".py",
   "mimetype": "text/x-python",
   "name": "python",
   "nbconvert_exporter": "python",
   "pygments_lexer": "ipython3",
   "version": "3.8.10"
  },
  "orig_nbformat": 4
 },
 "nbformat": 4,
 "nbformat_minor": 2
}
